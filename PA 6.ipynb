{
 "cells": [
  {
   "cell_type": "markdown",
   "id": "e2f0d2fe",
   "metadata": {},
   "source": [
    "## Justin Odle FA 22 PA 6"
   ]
  },
  {
   "cell_type": "code",
   "execution_count": 25,
   "id": "59fbe7b1",
   "metadata": {},
   "outputs": [
    {
     "name": "stdout",
     "output_type": "stream",
     "text": [
      "Enter the length of side A:5\n",
      "Enter the length of side B:6\n",
      "Enter the lenght of side C:7\n",
      "The area of the triangle is approximately 14.696938456699069\n",
      "The perimeter of the triangle is  18.0 linear units.\n"
     ]
    }
   ],
   "source": [
    "a=float(input('Enter the length of side A:'))\n",
    "b=float(input('Enter the length of side B:'))\n",
    "c=float(input('Enter the lenght of side C:'))\n",
    "\n",
    "s=(a+b+c)/2\n",
    "\n",
    "area=(s*(s-a)*(s-b)*(s-c))**0.5\n",
    "print('The area of the triangle is approximately',format(area))\n",
    "\n",
    "perim=a+b+c\n",
    "print('The perimeter of the triangle is ',format(perim), 'linear units.')"
   ]
  },
  {
   "cell_type": "code",
   "execution_count": 26,
   "id": "4e42f94a",
   "metadata": {},
   "outputs": [
    {
     "name": "stdout",
     "output_type": "stream",
     "text": [
      "Enter a guess :6\n",
      "Too low enter another guess\n",
      "Enter a guess :567\n",
      "Too high enter another guess\n",
      "Enter a guess :67\n",
      "Too low enter another guess\n",
      "Enter a guess :154\n",
      "Too low enter another guess\n",
      "Enter a guess :500\n",
      "Too high enter another guess\n",
      "Enter a guess :400\n",
      "Too high enter another guess\n",
      "Enter a guess :300\n",
      "Too low enter another guess\n",
      "Enter a guess :350\n",
      "Too low enter another guess\n",
      "Enter a guess :360\n",
      "Too low enter another guess\n",
      "Enter a guess :370\n",
      "Too high enter another guess\n",
      "Enter a guess :361\n",
      "Correct!\n"
     ]
    }
   ],
   "source": [
    "import random\n",
    "number=random.randint(1,1000)\n",
    "Entered_number=None\n",
    "time=0\n",
    "\n",
    "while Entered_number!=number:\n",
    "    Entered_number=int(input(\"Enter a guess :\"))\n",
    "    if Entered_number<number:\n",
    "        print(\"Too low enter another guess\")\n",
    "    elif Entered_number>number:\n",
    "        print(\"Too high enter another guess\")\n",
    "    else:\n",
    "        print(\"Correct!\")\n",
    "    time+=1"
   ]
  },
  {
   "cell_type": "code",
   "execution_count": 36,
   "id": "7654d011",
   "metadata": {},
   "outputs": [
    {
     "name": "stdout",
     "output_type": "stream",
     "text": [
      "The mean temperature for the past 7 days is 53.857142857142854 degrees F.\n"
     ]
    }
   ],
   "source": [
    "import statistics\n",
    "\n",
    "temp=[65,45,53,37,63,54,60]\n",
    "\n",
    "x=statistics.mean(temp)\n",
    "print('The mean temperature for the past 7 days is',format(x), 'degrees F.')"
   ]
  },
  {
   "cell_type": "code",
   "execution_count": null,
   "id": "cf0614df",
   "metadata": {},
   "outputs": [],
   "source": []
  }
 ],
 "metadata": {
  "kernelspec": {
   "display_name": "Python 3 (ipykernel)",
   "language": "python",
   "name": "python3"
  },
  "language_info": {
   "codemirror_mode": {
    "name": "ipython",
    "version": 3
   },
   "file_extension": ".py",
   "mimetype": "text/x-python",
   "name": "python",
   "nbconvert_exporter": "python",
   "pygments_lexer": "ipython3",
   "version": "3.9.13"
  }
 },
 "nbformat": 4,
 "nbformat_minor": 5
}
